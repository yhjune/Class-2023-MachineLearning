{
  "nbformat": 4,
  "nbformat_minor": 0,
  "metadata": {
    "colab": {
      "provenance": []
    },
    "kernelspec": {
      "name": "python3",
      "display_name": "Python 3"
    },
    "language_info": {
      "name": "python"
    },
    "accelerator": "TPU"
  },
  "cells": [
    {
      "cell_type": "markdown",
      "source": [
        "# closed 다중 분류\n",
        "\n"
      ],
      "metadata": {
        "id": "7s5rhWB6rd0V"
      }
    },
    {
      "cell_type": "code",
      "source": [
        "import pandas as pd\n",
        "\n",
        "path = '/content/mon2.pkl'\n",
        "df = pd.read_pickle(path)\n",
        "print(\"monitored\", df.shape)"
      ],
      "metadata": {
        "colab": {
          "base_uri": "https://localhost:8080/"
        },
        "id": "7lLt1wDk793Y",
        "outputId": "10786bb9-511f-40f5-c91c-b3aac0865f2a"
      },
      "execution_count": 74,
      "outputs": [
        {
          "output_type": "stream",
          "name": "stdout",
          "text": [
            "monitored (19000, 20)\n"
          ]
        }
      ]
    },
    {
      "cell_type": "code",
      "source": [
        "print(set(df['label']))"
      ],
      "metadata": {
        "colab": {
          "base_uri": "https://localhost:8080/"
        },
        "id": "uVgqJ62T-aNt",
        "outputId": "d14134ad-ac69-4204-c602-f90b1ff829ac"
      },
      "execution_count": 75,
      "outputs": [
        {
          "output_type": "stream",
          "name": "stdout",
          "text": [
            "{0, 1, 2, 3, 4, 5, 6, 7, 8, 9, 10, 11, 12, 13, 14, 15, 16, 17, 18, 19, 20, 21, 22, 23, 24, 25, 26, 27, 28, 29, 30, 31, 32, 33, 34, 35, 36, 37, 38, 39, 40, 41, 42, 43, 44, 45, 46, 47, 48, 49, 50, 51, 52, 53, 54, 55, 56, 57, 58, 59, 60, 61, 62, 63, 64, 65, 66, 67, 68, 69, 70, 71, 72, 73, 74, 75, 76, 77, 78, 79, 80, 81, 82, 83, 84, 85, 86, 87, 88, 89, 90, 91, 92, 93, 94}\n"
          ]
        }
      ]
    },
    {
      "cell_type": "code",
      "source": [
        "y = df.iloc[:, 0]\n",
        "X = df.drop('label', axis=1)\n",
        "\n",
        "print(y.shape)\n",
        "print(X.shape)"
      ],
      "metadata": {
        "colab": {
          "base_uri": "https://localhost:8080/"
        },
        "id": "dULtOn4R8ctK",
        "outputId": "28fe5c7a-827f-4189-a709-dcf189fd952e"
      },
      "execution_count": 76,
      "outputs": [
        {
          "output_type": "stream",
          "name": "stdout",
          "text": [
            "(19000,)\n",
            "(19000, 19)\n"
          ]
        }
      ]
    },
    {
      "cell_type": "code",
      "source": [
        "from sklearn.model_selection import train_test_split\n",
        "X_train, X_test, y_train, y_test = train_test_split(X, y, test_size=0.2, random_state=42)\n"
      ],
      "metadata": {
        "id": "y_gOdzO98Gmw"
      },
      "execution_count": 77,
      "outputs": []
    },
    {
      "cell_type": "code",
      "source": [
        "from sklearn.preprocessing import StandardScaler\n",
        "\n",
        "scaler = StandardScaler()\n",
        "X_train = scaler.fit_transform(X_train)\n",
        "X_test = scaler.transform(X_test)"
      ],
      "metadata": {
        "id": "px5vF39zDfrg"
      },
      "execution_count": 78,
      "outputs": []
    },
    {
      "cell_type": "code",
      "source": [
        "from sklearn import datasets\n",
        "from sklearn.model_selection import train_test_split\n",
        "from sklearn.svm import SVC\n",
        "from sklearn.metrics import accuracy_score, precision_score, recall_score, roc_auc_score, roc_curve, confusion_matrix\n",
        "import matplotlib.pyplot as plt\n",
        "from sklearn.model_selection import GridSearchCV\n",
        "\n",
        "svm_model = SVC(kernel='rbf', C=200, gamma=0.25)\n",
        "svm_model.fit(X_train, y_train)\n",
        "y_pred = svm_model.predict(X_test)"
      ],
      "metadata": {
        "id": "HzzO8mgw9Lal"
      },
      "execution_count": 79,
      "outputs": []
    },
    {
      "cell_type": "code",
      "source": [
        "accuracy = accuracy_score(y_test, y_pred)\n",
        "precision = precision_score(y_test, y_pred, average='micro')\n",
        "recall = recall_score(y_test, y_pred, average='macro')\n",
        "\n",
        "# roc_auc = roc_auc_score(y_test, y_pred, multi_class='ovr')\n",
        "\n",
        "print(f\"Accuracy: {accuracy}\")\n",
        "print(f\"Precision: {precision}\")\n",
        "print(f\"Recall: {recall}\")\n",
        "# print(f\"ROC AUC: {roc_auc}\")\n",
        "conf_matrix = confusion_matrix(y_test, y_pred)\n",
        "print(\"Confusion Matrix:\")\n",
        "print(conf_matrix)\n",
        "\n",
        "# C=100, gamma = 1,  0.5997894736842105"
      ],
      "metadata": {
        "colab": {
          "base_uri": "https://localhost:8080/",
          "height": 424
        },
        "id": "s4e5Cxs3_nxa",
        "outputId": "f5fa52a1-71a6-4e31-ac72-8ae249284f9c"
      },
      "execution_count": 82,
      "outputs": [
        {
          "output_type": "error",
          "ename": "AxisError",
          "evalue": "ignored",
          "traceback": [
            "\u001b[0;31m---------------------------------------------------------------------------\u001b[0m",
            "\u001b[0;31mAxisError\u001b[0m                                 Traceback (most recent call last)",
            "\u001b[0;32m<ipython-input-82-65d24d047ca8>\u001b[0m in \u001b[0;36m<cell line: 5>\u001b[0;34m()\u001b[0m\n\u001b[1;32m      3\u001b[0m \u001b[0mrecall\u001b[0m \u001b[0;34m=\u001b[0m \u001b[0mrecall_score\u001b[0m\u001b[0;34m(\u001b[0m\u001b[0my_test\u001b[0m\u001b[0;34m,\u001b[0m \u001b[0my_pred\u001b[0m\u001b[0;34m,\u001b[0m \u001b[0maverage\u001b[0m\u001b[0;34m=\u001b[0m\u001b[0;34m'macro'\u001b[0m\u001b[0;34m)\u001b[0m\u001b[0;34m\u001b[0m\u001b[0;34m\u001b[0m\u001b[0m\n\u001b[1;32m      4\u001b[0m \u001b[0;34m\u001b[0m\u001b[0m\n\u001b[0;32m----> 5\u001b[0;31m \u001b[0mroc_auc\u001b[0m \u001b[0;34m=\u001b[0m \u001b[0mroc_auc_score\u001b[0m\u001b[0;34m(\u001b[0m\u001b[0my_test\u001b[0m\u001b[0;34m,\u001b[0m \u001b[0my_pred\u001b[0m\u001b[0;34m,\u001b[0m \u001b[0mmulti_class\u001b[0m\u001b[0;34m=\u001b[0m\u001b[0;34m'ovr'\u001b[0m\u001b[0;34m)\u001b[0m\u001b[0;34m\u001b[0m\u001b[0;34m\u001b[0m\u001b[0m\n\u001b[0m\u001b[1;32m      6\u001b[0m \u001b[0;34m\u001b[0m\u001b[0m\n\u001b[1;32m      7\u001b[0m \u001b[0mprint\u001b[0m\u001b[0;34m(\u001b[0m\u001b[0;34mf\"Accuracy: {accuracy}\"\u001b[0m\u001b[0;34m)\u001b[0m\u001b[0;34m\u001b[0m\u001b[0;34m\u001b[0m\u001b[0m\n",
            "\u001b[0;32m/usr/local/lib/python3.10/dist-packages/sklearn/metrics/_ranking.py\u001b[0m in \u001b[0;36mroc_auc_score\u001b[0;34m(y_true, y_score, average, sample_weight, max_fpr, multi_class, labels)\u001b[0m\n\u001b[1;32m    564\u001b[0m         \u001b[0;32mif\u001b[0m \u001b[0mmulti_class\u001b[0m \u001b[0;34m==\u001b[0m \u001b[0;34m\"raise\"\u001b[0m\u001b[0;34m:\u001b[0m\u001b[0;34m\u001b[0m\u001b[0;34m\u001b[0m\u001b[0m\n\u001b[1;32m    565\u001b[0m             \u001b[0;32mraise\u001b[0m \u001b[0mValueError\u001b[0m\u001b[0;34m(\u001b[0m\u001b[0;34m\"multi_class must be in ('ovo', 'ovr')\"\u001b[0m\u001b[0;34m)\u001b[0m\u001b[0;34m\u001b[0m\u001b[0;34m\u001b[0m\u001b[0m\n\u001b[0;32m--> 566\u001b[0;31m         return _multiclass_roc_auc_score(\n\u001b[0m\u001b[1;32m    567\u001b[0m             \u001b[0my_true\u001b[0m\u001b[0;34m,\u001b[0m \u001b[0my_score\u001b[0m\u001b[0;34m,\u001b[0m \u001b[0mlabels\u001b[0m\u001b[0;34m,\u001b[0m \u001b[0mmulti_class\u001b[0m\u001b[0;34m,\u001b[0m \u001b[0maverage\u001b[0m\u001b[0;34m,\u001b[0m \u001b[0msample_weight\u001b[0m\u001b[0;34m\u001b[0m\u001b[0;34m\u001b[0m\u001b[0m\n\u001b[1;32m    568\u001b[0m         )\n",
            "\u001b[0;32m/usr/local/lib/python3.10/dist-packages/sklearn/metrics/_ranking.py\u001b[0m in \u001b[0;36m_multiclass_roc_auc_score\u001b[0;34m(y_true, y_score, labels, multi_class, average, sample_weight)\u001b[0m\n\u001b[1;32m    636\u001b[0m     \"\"\"\n\u001b[1;32m    637\u001b[0m     \u001b[0;31m# validation of the input y_score\u001b[0m\u001b[0;34m\u001b[0m\u001b[0;34m\u001b[0m\u001b[0m\n\u001b[0;32m--> 638\u001b[0;31m     \u001b[0;32mif\u001b[0m \u001b[0;32mnot\u001b[0m \u001b[0mnp\u001b[0m\u001b[0;34m.\u001b[0m\u001b[0mallclose\u001b[0m\u001b[0;34m(\u001b[0m\u001b[0;36m1\u001b[0m\u001b[0;34m,\u001b[0m \u001b[0my_score\u001b[0m\u001b[0;34m.\u001b[0m\u001b[0msum\u001b[0m\u001b[0;34m(\u001b[0m\u001b[0maxis\u001b[0m\u001b[0;34m=\u001b[0m\u001b[0;36m1\u001b[0m\u001b[0;34m)\u001b[0m\u001b[0;34m)\u001b[0m\u001b[0;34m:\u001b[0m\u001b[0;34m\u001b[0m\u001b[0;34m\u001b[0m\u001b[0m\n\u001b[0m\u001b[1;32m    639\u001b[0m         raise ValueError(\n\u001b[1;32m    640\u001b[0m             \u001b[0;34m\"Target scores need to be probabilities for multiclass \"\u001b[0m\u001b[0;34m\u001b[0m\u001b[0;34m\u001b[0m\u001b[0m\n",
            "\u001b[0;32m/usr/local/lib/python3.10/dist-packages/numpy/core/_methods.py\u001b[0m in \u001b[0;36m_sum\u001b[0;34m(a, axis, dtype, out, keepdims, initial, where)\u001b[0m\n\u001b[1;32m     46\u001b[0m def _sum(a, axis=None, dtype=None, out=None, keepdims=False,\n\u001b[1;32m     47\u001b[0m          initial=_NoValue, where=True):\n\u001b[0;32m---> 48\u001b[0;31m     \u001b[0;32mreturn\u001b[0m \u001b[0mumr_sum\u001b[0m\u001b[0;34m(\u001b[0m\u001b[0ma\u001b[0m\u001b[0;34m,\u001b[0m \u001b[0maxis\u001b[0m\u001b[0;34m,\u001b[0m \u001b[0mdtype\u001b[0m\u001b[0;34m,\u001b[0m \u001b[0mout\u001b[0m\u001b[0;34m,\u001b[0m \u001b[0mkeepdims\u001b[0m\u001b[0;34m,\u001b[0m \u001b[0minitial\u001b[0m\u001b[0;34m,\u001b[0m \u001b[0mwhere\u001b[0m\u001b[0;34m)\u001b[0m\u001b[0;34m\u001b[0m\u001b[0;34m\u001b[0m\u001b[0m\n\u001b[0m\u001b[1;32m     49\u001b[0m \u001b[0;34m\u001b[0m\u001b[0m\n\u001b[1;32m     50\u001b[0m def _prod(a, axis=None, dtype=None, out=None, keepdims=False,\n",
            "\u001b[0;31mAxisError\u001b[0m: axis 1 is out of bounds for array of dimension 1"
          ]
        }
      ]
    },
    {
      "cell_type": "markdown",
      "source": [
        "# open 이중 분류\n"
      ],
      "metadata": {
        "id": "fwugT9ZtP5zb"
      }
    },
    {
      "cell_type": "code",
      "source": [
        "import pandas as pd\n",
        "\n",
        "path = '/content/mon3.pkl'\n",
        "df = pd.read_pickle(path)\n",
        "df['label'] = 1\n",
        "print(\"monitored\", df.shape)"
      ],
      "metadata": {
        "colab": {
          "base_uri": "https://localhost:8080/"
        },
        "id": "qrpXRUmMP694",
        "outputId": "8e86b669-039b-48fd-d0b1-b4f9ba3277ef"
      },
      "execution_count": 58,
      "outputs": [
        {
          "output_type": "stream",
          "name": "stdout",
          "text": [
            "monitored (19000, 20)\n"
          ]
        }
      ]
    },
    {
      "cell_type": "code",
      "source": [
        "import pandas as pd\n",
        "\n",
        "path2 = '/content/unmon3.pkl'\n",
        "df2 = pd.read_pickle(path2)\n",
        "# df2['label'] = 0\n",
        "print(\"unmonitored\", df2.shape)"
      ],
      "metadata": {
        "colab": {
          "base_uri": "https://localhost:8080/"
        },
        "id": "PagprXcKQh7v",
        "outputId": "bac0eae8-290a-4a6d-c335-23ba2e582881"
      },
      "execution_count": 59,
      "outputs": [
        {
          "output_type": "stream",
          "name": "stdout",
          "text": [
            "unmonitored (10000, 20)\n"
          ]
        }
      ]
    },
    {
      "cell_type": "code",
      "source": [
        "df3 = pd.concat([df, df2], axis=0)\n",
        "df3.fillna(0, inplace=True)\n",
        "\n",
        "y = df3['label']\n",
        "X = df3.drop('label', axis=1)\n",
        "\n",
        "X.head"
      ],
      "metadata": {
        "colab": {
          "base_uri": "https://localhost:8080/"
        },
        "id": "xSsU-p12QkZj",
        "outputId": "0be0a06a-b09b-4297-bf54-34e24ce414be"
      },
      "execution_count": 60,
      "outputs": [
        {
          "output_type": "execute_result",
          "data": {
            "text/plain": [
              "<bound method NDFrame.head of       packet_num  total_income  total_outcome  outgoing_ratio  incoming_ratio  \\\n",
              "0           1421           121           1300        0.914849        0.085151   \n",
              "1            518            80            438        0.845560        0.154440   \n",
              "2           1358           118           1240        0.913108        0.086892   \n",
              "3           1446           122           1324        0.915629        0.084371   \n",
              "4           1406           115           1291        0.918208        0.081792   \n",
              "...          ...           ...            ...             ...             ...   \n",
              "9995        4593           413           4180        0.910081        0.089919   \n",
              "9996        5110           447           4663        0.912524        0.087476   \n",
              "9997         361            59            302        0.836565        0.163435   \n",
              "9998         509            96            413        0.811395        0.188605   \n",
              "9999        9990           322           9668        0.967768        0.032232   \n",
              "\n",
              "      duration  duration_per_packet  time_mean  time_std   time_var  \\\n",
              "0        10.14             0.007136   4.315749  1.128342   1.273156   \n",
              "1        10.16             0.019614   4.611815  1.370610   1.878571   \n",
              "2        11.11             0.008181   5.488969  1.179265   1.390665   \n",
              "3        13.36             0.009239   5.995512  1.708888   2.920298   \n",
              "4        10.64             0.007568   4.698869  1.297085   1.682428   \n",
              "...        ...                  ...        ...       ...        ...   \n",
              "9995     32.09             0.006987  12.494690  5.671474  32.165612   \n",
              "9996     38.62             0.007558  13.844609  3.751041  14.070312   \n",
              "9997     34.93             0.096759   3.568144  3.294484  10.853626   \n",
              "9998     11.84             0.023261   6.892377  2.320488   5.384663   \n",
              "9999      9.62             0.000963   7.916714  1.009503   1.019097   \n",
              "\n",
              "      size_mean  size_std   size_var  cumlative_std  cumlative_mean  \\\n",
              "0      4.315749  1.128342   1.273156   1.851431e+05   -3.075578e+05   \n",
              "1      4.611815  1.370610   1.878571   5.211435e+04   -8.671086e+04   \n",
              "2      5.488969  1.179265   1.390665   1.751909e+05   -2.970184e+05   \n",
              "3      5.995512  1.708888   2.920298   1.880505e+05   -3.163604e+05   \n",
              "4      4.698869  1.297085   1.682428   1.839075e+05   -3.085659e+05   \n",
              "...         ...       ...        ...            ...             ...   \n",
              "9995  12.494690  5.671474  32.165612   5.462538e+05   -9.878957e+05   \n",
              "9996  13.844609  3.751041  14.070312   6.452754e+05   -1.124968e+06   \n",
              "9997   3.568144  3.294484  10.853626   3.850832e+04   -6.222998e+04   \n",
              "9998   6.892377  2.320488   5.384663   5.356264e+04   -9.197190e+04   \n",
              "9999   7.916714  1.009503   1.019097   1.388684e+06   -2.380706e+06   \n",
              "\n",
              "      cumlative_var     burst_std   burst_mean     burst_var  \n",
              "0      3.427798e+10   7804.680303 -3901.109677  6.091303e+07  \n",
              "1      2.715905e+09   5268.809112 -1981.935484  2.776035e+07  \n",
              "2      3.069186e+10   7571.208934 -3811.178808  5.732320e+07  \n",
              "3      3.536297e+10   7796.126033 -3873.811321  6.077958e+07  \n",
              "4      3.382197e+10   7396.058816 -3838.369427  5.470169e+07  \n",
              "...             ...           ...          ...           ...  \n",
              "9995   2.983932e+11   7517.040047 -3777.756863  5.650589e+07  \n",
              "9996   4.163803e+11   9037.925859 -4809.142857  8.168410e+07  \n",
              "9997   1.482891e+09   5515.115894 -2327.272727  3.041650e+07  \n",
              "9998   2.868957e+09   4324.569708 -1466.810811  1.870190e+07  \n",
              "9999   1.928443e+12  11498.451365 -7993.364548  1.322144e+08  \n",
              "\n",
              "[29000 rows x 19 columns]>"
            ]
          },
          "metadata": {},
          "execution_count": 60
        }
      ]
    },
    {
      "cell_type": "code",
      "source": [
        "from sklearn.model_selection import train_test_split\n",
        "X_train, X_test, y_train, y_test = train_test_split(X, y, test_size=0.2, random_state=42)\n"
      ],
      "metadata": {
        "id": "35JmeRjiRGtM"
      },
      "execution_count": 61,
      "outputs": []
    },
    {
      "cell_type": "code",
      "source": [
        "from sklearn.preprocessing import StandardScaler\n",
        "\n",
        "scaler = StandardScaler()\n",
        "X_train = scaler.fit_transform(X_train)\n",
        "X_test = scaler.transform(X_test)"
      ],
      "metadata": {
        "id": "lsezjTuQRRFA"
      },
      "execution_count": 62,
      "outputs": []
    },
    {
      "cell_type": "code",
      "source": [
        "from sklearn import datasets\n",
        "from sklearn.model_selection import train_test_split\n",
        "from sklearn.svm import SVC\n",
        "from sklearn.metrics import accuracy_score, precision_score, recall_score, roc_auc_score, roc_curve, confusion_matrix\n",
        "import matplotlib.pyplot as plt\n",
        "from sklearn.model_selection import GridSearchCV\n",
        "\n",
        "svm_model = SVC(kernel='rbf', C=10, gamma=0.5)\n",
        "svm_model.fit(X_train, y_train)\n",
        "y_pred = svm_model.predict(X_test)"
      ],
      "metadata": {
        "id": "6nkfpvWqRUDp"
      },
      "execution_count": 63,
      "outputs": []
    },
    {
      "cell_type": "code",
      "source": [
        "#이중분류\n",
        "accuracy = accuracy_score(y_test, y_pred)\n",
        "precision = precision_score(y_test, y_pred)\n",
        "recall = recall_score(y_test, y_pred)\n",
        "roc_auc = roc_auc_score(y_test, y_pred)\n",
        "\n",
        "print(f\"Accuracy: {accuracy}\")\n",
        "print(f\"Precision: {precision}\")\n",
        "print(f\"Recall: {recall}\")\n",
        "print(f\"ROC AUC: {roc_auc}\")\n",
        "conf_matrix = confusion_matrix(y_test, y_pred)\n",
        "print(\"Confusion Matrix:\")\n",
        "print(conf_matrix)\n"
      ],
      "metadata": {
        "colab": {
          "base_uri": "https://localhost:8080/"
        },
        "id": "UHiWFmTaR4PS",
        "outputId": "49d87d58-7a82-417b-bcd9-3c1a034cd728"
      },
      "execution_count": 64,
      "outputs": [
        {
          "output_type": "stream",
          "name": "stdout",
          "text": [
            "Accuracy: 0.7948275862068965\n",
            "Precision: 0.8135270302452965\n",
            "Recall: 0.8935391054145959\n",
            "ROC AUC: 0.7487422385950067\n",
            "Confusion Matrix:\n",
            "[[1194  783]\n",
            " [ 407 3416]]\n"
          ]
        }
      ]
    },
    {
      "cell_type": "markdown",
      "source": [
        "# open 다중 분류"
      ],
      "metadata": {
        "id": "0mKEJ_SnnaPL"
      }
    },
    {
      "cell_type": "code",
      "source": [
        "import pandas as pd\n",
        "\n",
        "path = '/content/mon2.pkl'\n",
        "df = pd.read_pickle(path)\n",
        "print(\"monitored\", df.shape)"
      ],
      "metadata": {
        "colab": {
          "base_uri": "https://localhost:8080/"
        },
        "id": "fX3BIHx9nchj",
        "outputId": "3f64e799-d1f1-48f7-a9bf-24242adba99d"
      },
      "execution_count": 49,
      "outputs": [
        {
          "output_type": "stream",
          "name": "stdout",
          "text": [
            "monitored (19000, 20)\n"
          ]
        }
      ]
    },
    {
      "cell_type": "code",
      "source": [
        "import pandas as pd\n",
        "\n",
        "path2 = '/content/unmon2.pkl'\n",
        "df2 = pd.read_pickle(path2)\n",
        "# df2['label'] = 0\n",
        "print(\"unmonitored\", df2.shape)"
      ],
      "metadata": {
        "colab": {
          "base_uri": "https://localhost:8080/"
        },
        "id": "MPmMEaS1njUt",
        "outputId": "efa5c459-640c-41b0-a405-94da394eeedf"
      },
      "execution_count": 50,
      "outputs": [
        {
          "output_type": "stream",
          "name": "stdout",
          "text": [
            "unmonitored (10000, 20)\n"
          ]
        }
      ]
    },
    {
      "cell_type": "code",
      "source": [
        "df3 = pd.concat([df, df2], axis=0)\n",
        "df3.fillna(0, inplace=True)\n",
        "\n",
        "y = df3['label']\n",
        "X = df3.drop('label', axis=1)\n",
        "\n",
        "X.head"
      ],
      "metadata": {
        "colab": {
          "base_uri": "https://localhost:8080/"
        },
        "id": "xLV1EJDTn9lR",
        "outputId": "1ace697e-020f-4144-8dca-5df7c17c4fc5"
      },
      "execution_count": 51,
      "outputs": [
        {
          "output_type": "execute_result",
          "data": {
            "text/plain": [
              "<bound method NDFrame.head of       packet_num  total_income  total_outcome  outgoing_ratio  incoming_ratio  \\\n",
              "0           1421           121           1300        0.914849        0.085151   \n",
              "1            518            80            438        0.845560        0.154440   \n",
              "2           1358           118           1240        0.913108        0.086892   \n",
              "3           1446           122           1324        0.915629        0.084371   \n",
              "4           1406           115           1291        0.918208        0.081792   \n",
              "...          ...           ...            ...             ...             ...   \n",
              "9995        4593           413           4180        0.910081        0.089919   \n",
              "9996        5110           447           4663        0.912524        0.087476   \n",
              "9997         361            59            302        0.836565        0.163435   \n",
              "9998         509            96            413        0.811395        0.188605   \n",
              "9999        9990           322           9668        0.967768        0.032232   \n",
              "\n",
              "      duration  duration_per_packet  time_mean  time_std   time_var  \\\n",
              "0        10.14             0.007136   4.315749  1.128342   1.273156   \n",
              "1        10.16             0.019614   4.611815  1.370610   1.878571   \n",
              "2        11.11             0.008181   5.488969  1.179265   1.390665   \n",
              "3        13.36             0.009239   5.995512  1.708888   2.920298   \n",
              "4        10.64             0.007568   4.698869  1.297085   1.682428   \n",
              "...        ...                  ...        ...       ...        ...   \n",
              "9995     32.09             0.006987  12.494690  5.671474  32.165612   \n",
              "9996     38.62             0.007558  13.844609  3.751041  14.070312   \n",
              "9997     34.93             0.096759   3.568144  3.294484  10.853626   \n",
              "9998     11.84             0.023261   6.892377  2.320488   5.384663   \n",
              "9999      9.62             0.000963   7.916714  1.009503   1.019097   \n",
              "\n",
              "      size_mean  size_std   size_var  cumlative_std  cumlative_mean  \\\n",
              "0      4.315749  1.128342   1.273156   1.851431e+05   -3.075578e+05   \n",
              "1      4.611815  1.370610   1.878571   5.211435e+04   -8.671086e+04   \n",
              "2      5.488969  1.179265   1.390665   1.751909e+05   -2.970184e+05   \n",
              "3      5.995512  1.708888   2.920298   1.880505e+05   -3.163604e+05   \n",
              "4      4.698869  1.297085   1.682428   1.839075e+05   -3.085659e+05   \n",
              "...         ...       ...        ...            ...             ...   \n",
              "9995  12.494690  5.671474  32.165612   5.462538e+05   -9.878957e+05   \n",
              "9996  13.844609  3.751041  14.070312   6.452754e+05   -1.124968e+06   \n",
              "9997   3.568144  3.294484  10.853626   3.850832e+04   -6.222998e+04   \n",
              "9998   6.892377  2.320488   5.384663   5.356264e+04   -9.197190e+04   \n",
              "9999   7.916714  1.009503   1.019097   1.388684e+06   -2.380706e+06   \n",
              "\n",
              "      cumlative_var     burst_std   burst_mean     burst_var  \n",
              "0      3.427798e+10   7804.680303 -3901.109677  6.091303e+07  \n",
              "1      2.715905e+09   5268.809112 -1981.935484  2.776035e+07  \n",
              "2      3.069186e+10   7571.208934 -3811.178808  5.732320e+07  \n",
              "3      3.536297e+10   7796.126033 -3873.811321  6.077958e+07  \n",
              "4      3.382197e+10   7396.058816 -3838.369427  5.470169e+07  \n",
              "...             ...           ...          ...           ...  \n",
              "9995   2.983932e+11   7517.040047 -3777.756863  5.650589e+07  \n",
              "9996   4.163803e+11   9037.925859 -4809.142857  8.168410e+07  \n",
              "9997   1.482891e+09   5515.115894 -2327.272727  3.041650e+07  \n",
              "9998   2.868957e+09   4324.569708 -1466.810811  1.870190e+07  \n",
              "9999   1.928443e+12  11498.451365 -7993.364548  1.322144e+08  \n",
              "\n",
              "[29000 rows x 19 columns]>"
            ]
          },
          "metadata": {},
          "execution_count": 51
        }
      ]
    },
    {
      "cell_type": "code",
      "source": [
        "from sklearn.model_selection import train_test_split\n",
        "X_train, X_test, y_train, y_test = train_test_split(X, y, test_size=0.2, random_state=42)\n",
        "print(X_train.shape, X_test.shape)"
      ],
      "metadata": {
        "id": "9QTdxOl8nnY3"
      },
      "execution_count": 52,
      "outputs": []
    },
    {
      "cell_type": "code",
      "source": [
        "from sklearn.preprocessing import StandardScaler\n",
        "\n",
        "scaler = StandardScaler()\n",
        "X_train = scaler.fit_transform(X_train)\n",
        "X_test = scaler.transform(X_test)"
      ],
      "metadata": {
        "id": "szdDPcqtno9s"
      },
      "execution_count": 53,
      "outputs": []
    },
    {
      "cell_type": "code",
      "source": [
        "from sklearn import datasets\n",
        "from sklearn.model_selection import train_test_split\n",
        "from sklearn.svm import SVC\n",
        "from sklearn.metrics import accuracy_score, precision_score, recall_score, roc_auc_score, roc_curve, confusion_matrix\n",
        "import matplotlib.pyplot as plt\n",
        "from sklearn.model_selection import GridSearchCV\n",
        "\n",
        "svm_model = SVC(kernel='rbf', C=200, gamma=0.3)\n",
        "svm_model.fit(X_train, y_train)\n",
        "y_pred = svm_model.predict(X_test)"
      ],
      "metadata": {
        "id": "7SyE5oJLnxWZ"
      },
      "execution_count": 54,
      "outputs": []
    },
    {
      "cell_type": "code",
      "source": [
        "#open 다중 분류\n",
        "accuracy = accuracy_score(y_test, y_pred)\n",
        "precision = precision_score(y_test, y_pred, average='micro')\n",
        "recall = recall_score(y_test, y_pred, average='macro')\n",
        "# roc_auc = roc_auc_score(y_test, y_pred)\n",
        "\n",
        "print(f\"Accuracy: {accuracy}\")\n",
        "print(f\"Precision: {precision}\")\n",
        "print(f\"Recall: {recall}\")\n",
        "# print(f\"ROC AUC: {roc_auc}\")\n",
        "conf_matrix = confusion_matrix(y_test, y_pred)\n",
        "print(\"Confusion Matrix:\")\n",
        "print(conf_matrix)\n"
      ],
      "metadata": {
        "colab": {
          "base_uri": "https://localhost:8080/"
        },
        "id": "i0B0kmKFn0ty",
        "outputId": "60f965ed-c9be-4e92-df04-8f6759be6868"
      },
      "execution_count": 57,
      "outputs": [
        {
          "output_type": "stream",
          "name": "stdout",
          "text": [
            "Accuracy: 0.6420689655172414\n",
            "Precision: 0.6420689655172414\n",
            "Recall: 0.5646359809692579\n",
            "Confusion Matrix:\n",
            "[[1578    1    5 ...    3    2    6]\n",
            " [  15   12    0 ...    0    0    0]\n",
            " [   7    0   20 ...    0    0    0]\n",
            " ...\n",
            " [  22    0    0 ...    9    0    0]\n",
            " [  11    0    0 ...    0   39    0]\n",
            " [  20    1    0 ...    0    0   10]]\n"
          ]
        }
      ]
    }
  ]
}