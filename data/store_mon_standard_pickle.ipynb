{
 "cells": [
  {
   "cell_type": "markdown",
   "metadata": {
    "id": "view-in-github"
   },
   "source": [
    "<a href=\"https://colab.research.google.com/github/yhjune/Website-Fingerprinting/blob/main/load_pickle_code.ipynb\" target=\"_parent\"><img src=\"https://colab.research.google.com/assets/colab-badge.svg\" alt=\"Open In Colab\"/></a>"
   ]
  },
  {
   "cell_type": "markdown",
   "metadata": {
    "id": "_MMvTkyD_XMB"
   },
   "source": [
    "# Prerequisite"
   ]
  },
  {
   "cell_type": "code",
   "execution_count": 2,
   "metadata": {
    "colab": {
     "base_uri": "https://localhost:8080/"
    },
    "executionInfo": {
     "elapsed": 26446,
     "status": "ok",
     "timestamp": 1701397902466,
     "user": {
      "displayName": "­윤효정(엘텍공과대학 소프트웨어학부)",
      "userId": "02854537987850753344"
     },
     "user_tz": -540
    },
    "id": "hub46olpfODd",
    "outputId": "092c3460-554a-474a-bce4-48635baeb92e"
   },
   "outputs": [
    {
     "ename": "ModuleNotFoundError",
     "evalue": "No module named 'google'",
     "output_type": "error",
     "traceback": [
      "\u001b[0;31m---------------------------------------------------------------------------\u001b[0m",
      "\u001b[0;31mModuleNotFoundError\u001b[0m                       Traceback (most recent call last)",
      "\u001b[0;32m/var/folders/z1/k9v4xgz51gj1grl5kmkfvl9r0000gn/T/ipykernel_2393/1408506528.py\u001b[0m in \u001b[0;36m<module>\u001b[0;34m\u001b[0m\n\u001b[0;32m----> 1\u001b[0;31m \u001b[0;32mfrom\u001b[0m \u001b[0mgoogle\u001b[0m\u001b[0;34m.\u001b[0m\u001b[0mcolab\u001b[0m \u001b[0;32mimport\u001b[0m \u001b[0mdrive\u001b[0m\u001b[0;34m\u001b[0m\u001b[0;34m\u001b[0m\u001b[0m\n\u001b[0m\u001b[1;32m      2\u001b[0m \u001b[0mdrive\u001b[0m\u001b[0;34m.\u001b[0m\u001b[0mmount\u001b[0m\u001b[0;34m(\u001b[0m\u001b[0;34m'/content/drive'\u001b[0m\u001b[0;34m)\u001b[0m\u001b[0;34m\u001b[0m\u001b[0;34m\u001b[0m\u001b[0m\n",
      "\u001b[0;31mModuleNotFoundError\u001b[0m: No module named 'google'"
     ]
    }
   ],
   "source": [
    "from google.colab import drive\n",
    "drive.mount('/content/drive')"
   ]
  },
  {
   "cell_type": "markdown",
   "metadata": {
    "id": "u1AT---BgTRR"
   },
   "source": [
    "\n",
    "\n",
    "---\n",
    "\n",
    "\n",
    "# mon_df1_contiuous.pkl : time, size\n",
    "\n",
    "- sequence of packet sizes\n",
    "- sequence of packet time stamps (packet size, direction)"
   ]
  },
  {
   "cell_type": "code",
   "execution_count": 2,
   "metadata": {
    "colab": {
     "base_uri": "https://localhost:8080/"
    },
    "executionInfo": {
     "elapsed": 14223,
     "status": "ok",
     "timestamp": 1701397346930,
     "user": {
      "displayName": "­윤효정(엘텍공과대학 소프트웨어학부)",
      "userId": "02854537987850753344"
     },
     "user_tz": -540
    },
    "id": "TkAU_Sz9j7uI",
    "outputId": "d73b49a1-ce44-4bd4-dea2-297ad05012ef"
   },
   "outputs": [
    {
     "name": "stdout",
     "output_type": "stream",
     "text": [
      "Load mon_standard\n"
     ]
    }
   ],
   "source": [
    "import pandas as pd\n",
    "import pickle\n",
    "\n",
    "# Load the pickle file\n",
    "with open(\"/content/drive/MyDrive/GitHub/global/dataset/mon_standard.pkl\", 'rb') as fi: # Path to mon_standard.pkl in Colab\n",
    "    mon_data = pickle.load(fi)\n",
    "\n",
    "print(\"Load mon_standard\")"
   ]
  },
  {
   "cell_type": "code",
   "execution_count": null,
   "metadata": {
    "id": "VbGL3GXQ7aE9"
   },
   "outputs": [],
   "source": [
    "#print(df.keys()) # keys :\n",
    "a=list(mon_data.items())\n",
    "print(len(a)) # 95 websites * 10 subpages = 950\n",
    "print(len(a[0]),a[0] ) # 2 # 0, [[1,2,3,..],[1,2,3..],...,[1,2,3...]] |  0~949 | 0~9 eq website1 | 10~19 eq website2 |\n",
    "print(len(a[0][1]),a[0][1]) # 20 | observed 20 times each\n",
    "print(len(a[0][1][19]),a[0][1][19]) # timestamps with direction, not equals between each observations"
   ]
  },
  {
   "cell_type": "code",
   "execution_count": 7,
   "metadata": {
    "executionInfo": {
     "elapsed": 66354,
     "status": "ok",
     "timestamp": 1701397569260,
     "user": {
      "displayName": "­윤효정(엘텍공과대학 소프트웨어학부)",
      "userId": "02854537987850753344"
     },
     "user_tz": -540
    },
    "id": "p7nBRD7-i4_o"
   },
   "outputs": [],
   "source": [
    "USE_SUBLABEL = False\n",
    "URL_PER_SITE = 10\n",
    "TOTAL_URLS   = 950\n",
    "\n",
    "mon_time_seq = [] # Array to store instances (timestamps) - 19,000 instances, e.g., [[0.0, 0.5, 3.4, ...], [0.0, 4.5, ...], [0.0, 1.5, ...], ... [... ,45.8]]\n",
    "mon_size_seq = [] # Array to store instances (direction*size) - size information\n",
    "mon_label = [] # Array to store the site of each instance - 19,000 instances, e.g., [0, 0, 0, 0, 0, 0, ..., 94, 94, 94, 94, 94]\n",
    "\n",
    "# Differentiate instances and sites, and store them in the respective x and y arrays\n",
    "# x array (direction*timestamp), y array (site label)\n",
    "for i in range(TOTAL_URLS):\n",
    "    if USE_SUBLABEL:\n",
    "        label = i\n",
    "    else:\n",
    "        label = i // URL_PER_SITE # Calculate which site's URL the current URL being processed belongs to and set that value as the label.\n",
    "        # Thus, URLs fetched from the same site are labeled identically.\n",
    "    for sample in mon_data[i]:\n",
    "        size_seq = []\n",
    "        time_seq = []\n",
    "        sum = 0\n",
    "        for c in sample:\n",
    "            dr = 1 if c > 0 else -1\n",
    "            time_seq.append(abs(c))\n",
    "            size_seq.append(dr * 512)\n",
    "            sum += dr * 512\n",
    "\n",
    "        mon_time_seq.append(time_seq)\n",
    "        mon_size_seq.append(size_seq)\n",
    "        mon_label.append(label)\n",
    "\n",
    "df1 = pd.DataFrame(zip(mon_time_seq,mon_size_seq,mon_label),columns=['time_seq','size_seq','label'])"
   ]
  },
  {
   "cell_type": "code",
   "execution_count": 8,
   "metadata": {
    "colab": {
     "base_uri": "https://localhost:8080/",
     "height": 589
    },
    "executionInfo": {
     "elapsed": 13,
     "status": "ok",
     "timestamp": 1701397570442,
     "user": {
      "displayName": "­윤효정(엘텍공과대학 소프트웨어학부)",
      "userId": "02854537987850753344"
     },
     "user_tz": -540
    },
    "id": "7cZYeD3TFkLy",
    "outputId": "b56d322a-6b0a-4a31-d17a-e7495c163221"
   },
   "outputs": [
    {
     "data": {
      "text/html": [
       "\n",
       "  <div id=\"df-ff284ac7-859d-4d56-9281-2020cb940b98\" class=\"colab-df-container\">\n",
       "    <div>\n",
       "<style scoped>\n",
       "    .dataframe tbody tr th:only-of-type {\n",
       "        vertical-align: middle;\n",
       "    }\n",
       "\n",
       "    .dataframe tbody tr th {\n",
       "        vertical-align: top;\n",
       "    }\n",
       "\n",
       "    .dataframe thead th {\n",
       "        text-align: right;\n",
       "    }\n",
       "</style>\n",
       "<table border=\"1\" class=\"dataframe\">\n",
       "  <thead>\n",
       "    <tr style=\"text-align: right;\">\n",
       "      <th></th>\n",
       "      <th>time_seq</th>\n",
       "      <th>size_seq</th>\n",
       "      <th>label</th>\n",
       "    </tr>\n",
       "  </thead>\n",
       "  <tbody>\n",
       "    <tr>\n",
       "      <th>0</th>\n",
       "      <td>[0.0, 0.14, 0.14, 0.31, 0.31, 0.51, 0.51, 0.51...</td>\n",
       "      <td>[-512, -512, 512, -512, 512, -512, 512, 512, -...</td>\n",
       "      <td>0</td>\n",
       "    </tr>\n",
       "    <tr>\n",
       "      <th>1</th>\n",
       "      <td>[0.0, 0.13, 0.13, 0.31, 0.77, 1.11, 1.11, 1.11...</td>\n",
       "      <td>[-512, -512, 512, -512, 512, -512, 512, 512, -...</td>\n",
       "      <td>0</td>\n",
       "    </tr>\n",
       "    <tr>\n",
       "      <th>2</th>\n",
       "      <td>[0.0, 0.11, 0.11, 0.23, 0.97, 1.11, 1.11, 1.11...</td>\n",
       "      <td>[-512, -512, 512, -512, 512, -512, 512, 512, -...</td>\n",
       "      <td>0</td>\n",
       "    </tr>\n",
       "    <tr>\n",
       "      <th>3</th>\n",
       "      <td>[0.0, 0.27, 0.27, 0.6, 0.6, 0.88, 0.89, 0.89, ...</td>\n",
       "      <td>[-512, -512, 512, -512, 512, -512, 512, 512, -...</td>\n",
       "      <td>0</td>\n",
       "    </tr>\n",
       "    <tr>\n",
       "      <th>4</th>\n",
       "      <td>[0.0, 0.11, 0.11, 0.36, 0.36, 0.6, 0.6, 0.6, 0...</td>\n",
       "      <td>[-512, -512, 512, -512, 512, -512, 512, 512, -...</td>\n",
       "      <td>0</td>\n",
       "    </tr>\n",
       "    <tr>\n",
       "      <th>...</th>\n",
       "      <td>...</td>\n",
       "      <td>...</td>\n",
       "      <td>...</td>\n",
       "    </tr>\n",
       "    <tr>\n",
       "      <th>18995</th>\n",
       "      <td>[0.0, 0.15, 0.15, 0.33, 0.91, 1.12, 1.13, 1.13...</td>\n",
       "      <td>[-512, -512, 512, -512, 512, -512, 512, 512, -...</td>\n",
       "      <td>94</td>\n",
       "    </tr>\n",
       "    <tr>\n",
       "      <th>18996</th>\n",
       "      <td>[0.0, 0.16, 0.16, 0.35, 0.99, 1.26, 1.26, 1.26...</td>\n",
       "      <td>[-512, -512, 512, -512, 512, -512, 512, 512, -...</td>\n",
       "      <td>94</td>\n",
       "    </tr>\n",
       "    <tr>\n",
       "      <th>18997</th>\n",
       "      <td>[0.0, 0.11, 0.11, 0.36, 0.36, 0.83, 0.83, 0.83...</td>\n",
       "      <td>[-512, -512, 512, -512, 512, -512, 512, 512, -...</td>\n",
       "      <td>94</td>\n",
       "    </tr>\n",
       "    <tr>\n",
       "      <th>18998</th>\n",
       "      <td>[0.0, 0.17, 0.17, 0.32, 1.98, 2.56, 2.56, 2.56...</td>\n",
       "      <td>[-512, -512, 512, -512, 512, -512, 512, 512, -...</td>\n",
       "      <td>94</td>\n",
       "    </tr>\n",
       "    <tr>\n",
       "      <th>18999</th>\n",
       "      <td>[0.0, 0.12, 0.12, 0.46, 0.46, 0.72, 0.73, 0.73...</td>\n",
       "      <td>[-512, -512, 512, -512, 512, -512, 512, 512, -...</td>\n",
       "      <td>94</td>\n",
       "    </tr>\n",
       "  </tbody>\n",
       "</table>\n",
       "<p>19000 rows × 3 columns</p>\n",
       "</div>\n",
       "    <div class=\"colab-df-buttons\">\n",
       "\n",
       "  <div class=\"colab-df-container\">\n",
       "    <button class=\"colab-df-convert\" onclick=\"convertToInteractive('df-ff284ac7-859d-4d56-9281-2020cb940b98')\"\n",
       "            title=\"Convert this dataframe to an interactive table.\"\n",
       "            style=\"display:none;\">\n",
       "\n",
       "  <svg xmlns=\"http://www.w3.org/2000/svg\" height=\"24px\" viewBox=\"0 -960 960 960\">\n",
       "    <path d=\"M120-120v-720h720v720H120Zm60-500h600v-160H180v160Zm220 220h160v-160H400v160Zm0 220h160v-160H400v160ZM180-400h160v-160H180v160Zm440 0h160v-160H620v160ZM180-180h160v-160H180v160Zm440 0h160v-160H620v160Z\"/>\n",
       "  </svg>\n",
       "    </button>\n",
       "\n",
       "  <style>\n",
       "    .colab-df-container {\n",
       "      display:flex;\n",
       "      gap: 12px;\n",
       "    }\n",
       "\n",
       "    .colab-df-convert {\n",
       "      background-color: #E8F0FE;\n",
       "      border: none;\n",
       "      border-radius: 50%;\n",
       "      cursor: pointer;\n",
       "      display: none;\n",
       "      fill: #1967D2;\n",
       "      height: 32px;\n",
       "      padding: 0 0 0 0;\n",
       "      width: 32px;\n",
       "    }\n",
       "\n",
       "    .colab-df-convert:hover {\n",
       "      background-color: #E2EBFA;\n",
       "      box-shadow: 0px 1px 2px rgba(60, 64, 67, 0.3), 0px 1px 3px 1px rgba(60, 64, 67, 0.15);\n",
       "      fill: #174EA6;\n",
       "    }\n",
       "\n",
       "    .colab-df-buttons div {\n",
       "      margin-bottom: 4px;\n",
       "    }\n",
       "\n",
       "    [theme=dark] .colab-df-convert {\n",
       "      background-color: #3B4455;\n",
       "      fill: #D2E3FC;\n",
       "    }\n",
       "\n",
       "    [theme=dark] .colab-df-convert:hover {\n",
       "      background-color: #434B5C;\n",
       "      box-shadow: 0px 1px 3px 1px rgba(0, 0, 0, 0.15);\n",
       "      filter: drop-shadow(0px 1px 2px rgba(0, 0, 0, 0.3));\n",
       "      fill: #FFFFFF;\n",
       "    }\n",
       "  </style>\n",
       "\n",
       "    <script>\n",
       "      const buttonEl =\n",
       "        document.querySelector('#df-ff284ac7-859d-4d56-9281-2020cb940b98 button.colab-df-convert');\n",
       "      buttonEl.style.display =\n",
       "        google.colab.kernel.accessAllowed ? 'block' : 'none';\n",
       "\n",
       "      async function convertToInteractive(key) {\n",
       "        const element = document.querySelector('#df-ff284ac7-859d-4d56-9281-2020cb940b98');\n",
       "        const dataTable =\n",
       "          await google.colab.kernel.invokeFunction('convertToInteractive',\n",
       "                                                    [key], {});\n",
       "        if (!dataTable) return;\n",
       "\n",
       "        const docLinkHtml = 'Like what you see? Visit the ' +\n",
       "          '<a target=\"_blank\" href=https://colab.research.google.com/notebooks/data_table.ipynb>data table notebook</a>'\n",
       "          + ' to learn more about interactive tables.';\n",
       "        element.innerHTML = '';\n",
       "        dataTable['output_type'] = 'display_data';\n",
       "        await google.colab.output.renderOutput(dataTable, element);\n",
       "        const docLink = document.createElement('div');\n",
       "        docLink.innerHTML = docLinkHtml;\n",
       "        element.appendChild(docLink);\n",
       "      }\n",
       "    </script>\n",
       "  </div>\n",
       "\n",
       "\n",
       "<div id=\"df-b54403c1-9bda-4612-81fe-cf3463918f38\">\n",
       "  <button class=\"colab-df-quickchart\" onclick=\"quickchart('df-b54403c1-9bda-4612-81fe-cf3463918f38')\"\n",
       "            title=\"Suggest charts\"\n",
       "            style=\"display:none;\">\n",
       "\n",
       "<svg xmlns=\"http://www.w3.org/2000/svg\" height=\"24px\"viewBox=\"0 0 24 24\"\n",
       "     width=\"24px\">\n",
       "    <g>\n",
       "        <path d=\"M19 3H5c-1.1 0-2 .9-2 2v14c0 1.1.9 2 2 2h14c1.1 0 2-.9 2-2V5c0-1.1-.9-2-2-2zM9 17H7v-7h2v7zm4 0h-2V7h2v10zm4 0h-2v-4h2v4z\"/>\n",
       "    </g>\n",
       "</svg>\n",
       "  </button>\n",
       "\n",
       "<style>\n",
       "  .colab-df-quickchart {\n",
       "      --bg-color: #E8F0FE;\n",
       "      --fill-color: #1967D2;\n",
       "      --hover-bg-color: #E2EBFA;\n",
       "      --hover-fill-color: #174EA6;\n",
       "      --disabled-fill-color: #AAA;\n",
       "      --disabled-bg-color: #DDD;\n",
       "  }\n",
       "\n",
       "  [theme=dark] .colab-df-quickchart {\n",
       "      --bg-color: #3B4455;\n",
       "      --fill-color: #D2E3FC;\n",
       "      --hover-bg-color: #434B5C;\n",
       "      --hover-fill-color: #FFFFFF;\n",
       "      --disabled-bg-color: #3B4455;\n",
       "      --disabled-fill-color: #666;\n",
       "  }\n",
       "\n",
       "  .colab-df-quickchart {\n",
       "    background-color: var(--bg-color);\n",
       "    border: none;\n",
       "    border-radius: 50%;\n",
       "    cursor: pointer;\n",
       "    display: none;\n",
       "    fill: var(--fill-color);\n",
       "    height: 32px;\n",
       "    padding: 0;\n",
       "    width: 32px;\n",
       "  }\n",
       "\n",
       "  .colab-df-quickchart:hover {\n",
       "    background-color: var(--hover-bg-color);\n",
       "    box-shadow: 0 1px 2px rgba(60, 64, 67, 0.3), 0 1px 3px 1px rgba(60, 64, 67, 0.15);\n",
       "    fill: var(--button-hover-fill-color);\n",
       "  }\n",
       "\n",
       "  .colab-df-quickchart-complete:disabled,\n",
       "  .colab-df-quickchart-complete:disabled:hover {\n",
       "    background-color: var(--disabled-bg-color);\n",
       "    fill: var(--disabled-fill-color);\n",
       "    box-shadow: none;\n",
       "  }\n",
       "\n",
       "  .colab-df-spinner {\n",
       "    border: 2px solid var(--fill-color);\n",
       "    border-color: transparent;\n",
       "    border-bottom-color: var(--fill-color);\n",
       "    animation:\n",
       "      spin 1s steps(1) infinite;\n",
       "  }\n",
       "\n",
       "  @keyframes spin {\n",
       "    0% {\n",
       "      border-color: transparent;\n",
       "      border-bottom-color: var(--fill-color);\n",
       "      border-left-color: var(--fill-color);\n",
       "    }\n",
       "    20% {\n",
       "      border-color: transparent;\n",
       "      border-left-color: var(--fill-color);\n",
       "      border-top-color: var(--fill-color);\n",
       "    }\n",
       "    30% {\n",
       "      border-color: transparent;\n",
       "      border-left-color: var(--fill-color);\n",
       "      border-top-color: var(--fill-color);\n",
       "      border-right-color: var(--fill-color);\n",
       "    }\n",
       "    40% {\n",
       "      border-color: transparent;\n",
       "      border-right-color: var(--fill-color);\n",
       "      border-top-color: var(--fill-color);\n",
       "    }\n",
       "    60% {\n",
       "      border-color: transparent;\n",
       "      border-right-color: var(--fill-color);\n",
       "    }\n",
       "    80% {\n",
       "      border-color: transparent;\n",
       "      border-right-color: var(--fill-color);\n",
       "      border-bottom-color: var(--fill-color);\n",
       "    }\n",
       "    90% {\n",
       "      border-color: transparent;\n",
       "      border-bottom-color: var(--fill-color);\n",
       "    }\n",
       "  }\n",
       "</style>\n",
       "\n",
       "  <script>\n",
       "    async function quickchart(key) {\n",
       "      const quickchartButtonEl =\n",
       "        document.querySelector('#' + key + ' button');\n",
       "      quickchartButtonEl.disabled = true;  // To prevent multiple clicks.\n",
       "      quickchartButtonEl.classList.add('colab-df-spinner');\n",
       "      try {\n",
       "        const charts = await google.colab.kernel.invokeFunction(\n",
       "            'suggestCharts', [key], {});\n",
       "      } catch (error) {\n",
       "        console.error('Error during call to suggestCharts:', error);\n",
       "      }\n",
       "      quickchartButtonEl.classList.remove('colab-df-spinner');\n",
       "      quickchartButtonEl.classList.add('colab-df-quickchart-complete');\n",
       "    }\n",
       "    (() => {\n",
       "      let quickchartButtonEl =\n",
       "        document.querySelector('#df-b54403c1-9bda-4612-81fe-cf3463918f38 button');\n",
       "      quickchartButtonEl.style.display =\n",
       "        google.colab.kernel.accessAllowed ? 'block' : 'none';\n",
       "    })();\n",
       "  </script>\n",
       "</div>\n",
       "    </div>\n",
       "  </div>\n"
      ],
      "text/plain": [
       "                                                time_seq  \\\n",
       "0      [0.0, 0.14, 0.14, 0.31, 0.31, 0.51, 0.51, 0.51...   \n",
       "1      [0.0, 0.13, 0.13, 0.31, 0.77, 1.11, 1.11, 1.11...   \n",
       "2      [0.0, 0.11, 0.11, 0.23, 0.97, 1.11, 1.11, 1.11...   \n",
       "3      [0.0, 0.27, 0.27, 0.6, 0.6, 0.88, 0.89, 0.89, ...   \n",
       "4      [0.0, 0.11, 0.11, 0.36, 0.36, 0.6, 0.6, 0.6, 0...   \n",
       "...                                                  ...   \n",
       "18995  [0.0, 0.15, 0.15, 0.33, 0.91, 1.12, 1.13, 1.13...   \n",
       "18996  [0.0, 0.16, 0.16, 0.35, 0.99, 1.26, 1.26, 1.26...   \n",
       "18997  [0.0, 0.11, 0.11, 0.36, 0.36, 0.83, 0.83, 0.83...   \n",
       "18998  [0.0, 0.17, 0.17, 0.32, 1.98, 2.56, 2.56, 2.56...   \n",
       "18999  [0.0, 0.12, 0.12, 0.46, 0.46, 0.72, 0.73, 0.73...   \n",
       "\n",
       "                                                size_seq  label  \n",
       "0      [-512, -512, 512, -512, 512, -512, 512, 512, -...      0  \n",
       "1      [-512, -512, 512, -512, 512, -512, 512, 512, -...      0  \n",
       "2      [-512, -512, 512, -512, 512, -512, 512, 512, -...      0  \n",
       "3      [-512, -512, 512, -512, 512, -512, 512, 512, -...      0  \n",
       "4      [-512, -512, 512, -512, 512, -512, 512, 512, -...      0  \n",
       "...                                                  ...    ...  \n",
       "18995  [-512, -512, 512, -512, 512, -512, 512, 512, -...     94  \n",
       "18996  [-512, -512, 512, -512, 512, -512, 512, 512, -...     94  \n",
       "18997  [-512, -512, 512, -512, 512, -512, 512, 512, -...     94  \n",
       "18998  [-512, -512, 512, -512, 512, -512, 512, 512, -...     94  \n",
       "18999  [-512, -512, 512, -512, 512, -512, 512, 512, -...     94  \n",
       "\n",
       "[19000 rows x 3 columns]"
      ]
     },
     "execution_count": 8,
     "metadata": {},
     "output_type": "execute_result"
    }
   ],
   "source": [
    "df1"
   ]
  },
  {
   "cell_type": "markdown",
   "metadata": {
    "id": "MiVyty5TDRnO"
   },
   "source": [
    "## Export Pickle"
   ]
  },
  {
   "cell_type": "code",
   "execution_count": 9,
   "metadata": {
    "colab": {
     "base_uri": "https://localhost:8080/"
    },
    "executionInfo": {
     "elapsed": 375,
     "status": "ok",
     "timestamp": 1701397575916,
     "user": {
      "displayName": "­윤효정(엘텍공과대학 소프트웨어학부)",
      "userId": "02854537987850753344"
     },
     "user_tz": -540
    },
    "id": "TFyrvz5CGL17",
    "outputId": "d38cc3d3-a978-474f-d976-cfeb6f211f41"
   },
   "outputs": [
    {
     "name": "stdout",
     "output_type": "stream",
     "text": [
      "/content/drive/MyDrive/GitHub/global\n"
     ]
    }
   ],
   "source": [
    "cd /content/drive/MyDrive/GitHub/global"
   ]
  },
  {
   "cell_type": "code",
   "execution_count": 10,
   "metadata": {
    "executionInfo": {
     "elapsed": 18804,
     "status": "ok",
     "timestamp": 1701397595988,
     "user": {
      "displayName": "­윤효정(엘텍공과대학 소프트웨어학부)",
      "userId": "02854537987850753344"
     },
     "user_tz": -540
    },
    "id": "x13tmCrOhxy9"
   },
   "outputs": [],
   "source": [
    "picklefile = open('mon_df1_contiuous.pkl','wb')\n",
    "pickle.dump(df1,picklefile)\n",
    "picklefile.close()"
   ]
  },
  {
   "cell_type": "markdown",
   "metadata": {
    "id": "gt_hkVZQCMus"
   },
   "source": [
    "# mon_df2_contiuous.pkl : cumluative size, burst\n",
    "\n",
    "- sequence of cumluative packet sizes\n",
    "- sequence of bursts\n",
    "- label\n"
   ]
  },
  {
   "cell_type": "code",
   "execution_count": 1,
   "metadata": {
    "colab": {
     "base_uri": "https://localhost:8080/"
    },
    "executionInfo": {
     "elapsed": 14668,
     "status": "ok",
     "timestamp": 1701397738652,
     "user": {
      "displayName": "­윤효정(엘텍공과대학 소프트웨어학부)",
      "userId": "02854537987850753344"
     },
     "user_tz": -540
    },
    "id": "n_VYDEG5CXwZ",
    "outputId": "24e080b5-c2ce-43ff-965e-96a6a9de94a5"
   },
   "outputs": [
    {
     "name": "stdout",
     "output_type": "stream",
     "text": [
      "Load mon_standard\n"
     ]
    }
   ],
   "source": [
    "import pandas as pd\n",
    "import pickle\n",
    "\n",
    "# Load the pickle file\n",
    "with open(\"/content/drive/MyDrive/GitHub/global/dataset/mon_standard.pkl\", 'rb') as fi: # Path to mon_standard.pkl in Colab\n",
    "    mon_data = pickle.load(fi)\n",
    "print(\"Load mon_standard\")"
   ]
  },
  {
   "cell_type": "code",
   "execution_count": 2,
   "metadata": {
    "executionInfo": {
     "elapsed": 77804,
     "status": "ok",
     "timestamp": 1701397816452,
     "user": {
      "displayName": "­윤효정(엘텍공과대학 소프트웨어학부)",
      "userId": "02854537987850753344"
     },
     "user_tz": -540
    },
    "id": "aNp_6Ww8CTW5"
   },
   "outputs": [],
   "source": [
    "USE_SUBLABEL = False\n",
    "URL_PER_SITE = 10\n",
    "TOTAL_URLS   = 950\n",
    "\n",
    "mon_label = [] # Array to store the site of each instance - 19,000 instances, e.g., [0, 0, 0, 0, 0, 0, ..., 94, 94, 94, 94, 94]\n",
    "mon_cumul = []\n",
    "mon_burst = []\n",
    "\n",
    "# Differentiate instances and sites, and store them in the respective x and y arrays\n",
    "# x array (direction*timestamp), y array (site label)\n",
    "for i in range(TOTAL_URLS):\n",
    "    if USE_SUBLABEL:\n",
    "        label = i\n",
    "    else:\n",
    "        label = i // URL_PER_SITE # Calculate which site's URL the current URL being processed belongs to and set that value as the label.\n",
    "        # Thus, URLs fetched from the same site are labeled identically.\n",
    "    for sample in mon_data[i]:\n",
    "        size_seq = []\n",
    "        cumul_seq = []\n",
    "        burst_seq = []\n",
    "        sum = 0\n",
    "        for c in sample:\n",
    "            dr = 1 if c > 0 else -1\n",
    "            size_seq.append(dr * 512)\n",
    "            sum += dr * 512\n",
    "            cumul_seq.append(sum)\n",
    "\n",
    "        mon_cumul.append(cumul_seq)\n",
    "        mon_label.append(label)\n",
    "\n",
    "        burst = 1\n",
    "        for j in range(len(size_seq)-1):\n",
    "            if size_seq[j] == size_seq[j+1]:\n",
    "              burst += 1\n",
    "            elif j == len(size_seq)-1:\n",
    "              burst_seq.append(size_seq[j] * burst)\n",
    "              burst = 1\n",
    "            else:\n",
    "              burst_seq.append(size_seq[j] * burst)\n",
    "              burst = 1\n",
    "\n",
    "        mon_burst.append(burst_seq)\n",
    "\n",
    "df2 = pd.DataFrame(zip(mon_label,mon_cumul,mon_burst),columns=['label','cumlative_seq','burst_seq'])"
   ]
  },
  {
   "cell_type": "code",
   "execution_count": 3,
   "metadata": {
    "colab": {
     "base_uri": "https://localhost:8080/",
     "height": 589
    },
    "executionInfo": {
     "elapsed": 28,
     "status": "ok",
     "timestamp": 1701397816453,
     "user": {
      "displayName": "­윤효정(엘텍공과대학 소프트웨어학부)",
      "userId": "02854537987850753344"
     },
     "user_tz": -540
    },
    "id": "83vnXkprok64",
    "outputId": "2978a4eb-9cbb-4da3-a5a7-a5493a66dd98"
   },
   "outputs": [
    {
     "data": {
      "text/html": [
       "\n",
       "  <div id=\"df-70e923ec-2f78-4510-9932-c7de1a157a50\" class=\"colab-df-container\">\n",
       "    <div>\n",
       "<style scoped>\n",
       "    .dataframe tbody tr th:only-of-type {\n",
       "        vertical-align: middle;\n",
       "    }\n",
       "\n",
       "    .dataframe tbody tr th {\n",
       "        vertical-align: top;\n",
       "    }\n",
       "\n",
       "    .dataframe thead th {\n",
       "        text-align: right;\n",
       "    }\n",
       "</style>\n",
       "<table border=\"1\" class=\"dataframe\">\n",
       "  <thead>\n",
       "    <tr style=\"text-align: right;\">\n",
       "      <th></th>\n",
       "      <th>label</th>\n",
       "      <th>cumlative_seq</th>\n",
       "      <th>burst_seq</th>\n",
       "    </tr>\n",
       "  </thead>\n",
       "  <tbody>\n",
       "    <tr>\n",
       "      <th>0</th>\n",
       "      <td>0</td>\n",
       "      <td>[-512, -1024, -512, -1024, -512, -1024, -512, ...</td>\n",
       "      <td>[-1024, 512, -512, 512, -512, 1024, -7168, 512...</td>\n",
       "    </tr>\n",
       "    <tr>\n",
       "      <th>1</th>\n",
       "      <td>0</td>\n",
       "      <td>[-512, -1024, -512, -1024, -512, -1024, -512, ...</td>\n",
       "      <td>[-1024, 512, -512, 512, -512, 1024, -7168, 512...</td>\n",
       "    </tr>\n",
       "    <tr>\n",
       "      <th>2</th>\n",
       "      <td>0</td>\n",
       "      <td>[-512, -1024, -512, -1024, -512, -1024, -512, ...</td>\n",
       "      <td>[-1024, 512, -512, 512, -512, 1024, -7168, 512...</td>\n",
       "    </tr>\n",
       "    <tr>\n",
       "      <th>3</th>\n",
       "      <td>0</td>\n",
       "      <td>[-512, -1024, -512, -1024, -512, -1024, -512, ...</td>\n",
       "      <td>[-1024, 512, -512, 512, -512, 1024, -7168, 512...</td>\n",
       "    </tr>\n",
       "    <tr>\n",
       "      <th>4</th>\n",
       "      <td>0</td>\n",
       "      <td>[-512, -1024, -512, -1024, -512, -1024, -512, ...</td>\n",
       "      <td>[-1024, 512, -512, 512, -512, 1024, -7168, 512...</td>\n",
       "    </tr>\n",
       "    <tr>\n",
       "      <th>...</th>\n",
       "      <td>...</td>\n",
       "      <td>...</td>\n",
       "      <td>...</td>\n",
       "    </tr>\n",
       "    <tr>\n",
       "      <th>18995</th>\n",
       "      <td>94</td>\n",
       "      <td>[-512, -1024, -512, -1024, -512, -1024, -512, ...</td>\n",
       "      <td>[-1024, 512, -512, 512, -512, 1024, -7680, 102...</td>\n",
       "    </tr>\n",
       "    <tr>\n",
       "      <th>18996</th>\n",
       "      <td>94</td>\n",
       "      <td>[-512, -1024, -512, -1024, -512, -1024, -512, ...</td>\n",
       "      <td>[-1024, 512, -512, 512, -512, 1024, -7680, 102...</td>\n",
       "    </tr>\n",
       "    <tr>\n",
       "      <th>18997</th>\n",
       "      <td>94</td>\n",
       "      <td>[-512, -1024, -512, -1024, -512, -1024, -512, ...</td>\n",
       "      <td>[-1024, 512, -512, 512, -512, 1024, -7680, 153...</td>\n",
       "    </tr>\n",
       "    <tr>\n",
       "      <th>18998</th>\n",
       "      <td>94</td>\n",
       "      <td>[-512, -1024, -512, -1024, -512, -1024, -512, ...</td>\n",
       "      <td>[-1024, 512, -512, 512, -512, 1024, -7680, 102...</td>\n",
       "    </tr>\n",
       "    <tr>\n",
       "      <th>18999</th>\n",
       "      <td>94</td>\n",
       "      <td>[-512, -1024, -512, -1024, -512, -1024, -512, ...</td>\n",
       "      <td>[-1024, 512, -512, 512, -512, 1024, -7680, 102...</td>\n",
       "    </tr>\n",
       "  </tbody>\n",
       "</table>\n",
       "<p>19000 rows × 3 columns</p>\n",
       "</div>\n",
       "    <div class=\"colab-df-buttons\">\n",
       "\n",
       "  <div class=\"colab-df-container\">\n",
       "    <button class=\"colab-df-convert\" onclick=\"convertToInteractive('df-70e923ec-2f78-4510-9932-c7de1a157a50')\"\n",
       "            title=\"Convert this dataframe to an interactive table.\"\n",
       "            style=\"display:none;\">\n",
       "\n",
       "  <svg xmlns=\"http://www.w3.org/2000/svg\" height=\"24px\" viewBox=\"0 -960 960 960\">\n",
       "    <path d=\"M120-120v-720h720v720H120Zm60-500h600v-160H180v160Zm220 220h160v-160H400v160Zm0 220h160v-160H400v160ZM180-400h160v-160H180v160Zm440 0h160v-160H620v160ZM180-180h160v-160H180v160Zm440 0h160v-160H620v160Z\"/>\n",
       "  </svg>\n",
       "    </button>\n",
       "\n",
       "  <style>\n",
       "    .colab-df-container {\n",
       "      display:flex;\n",
       "      gap: 12px;\n",
       "    }\n",
       "\n",
       "    .colab-df-convert {\n",
       "      background-color: #E8F0FE;\n",
       "      border: none;\n",
       "      border-radius: 50%;\n",
       "      cursor: pointer;\n",
       "      display: none;\n",
       "      fill: #1967D2;\n",
       "      height: 32px;\n",
       "      padding: 0 0 0 0;\n",
       "      width: 32px;\n",
       "    }\n",
       "\n",
       "    .colab-df-convert:hover {\n",
       "      background-color: #E2EBFA;\n",
       "      box-shadow: 0px 1px 2px rgba(60, 64, 67, 0.3), 0px 1px 3px 1px rgba(60, 64, 67, 0.15);\n",
       "      fill: #174EA6;\n",
       "    }\n",
       "\n",
       "    .colab-df-buttons div {\n",
       "      margin-bottom: 4px;\n",
       "    }\n",
       "\n",
       "    [theme=dark] .colab-df-convert {\n",
       "      background-color: #3B4455;\n",
       "      fill: #D2E3FC;\n",
       "    }\n",
       "\n",
       "    [theme=dark] .colab-df-convert:hover {\n",
       "      background-color: #434B5C;\n",
       "      box-shadow: 0px 1px 3px 1px rgba(0, 0, 0, 0.15);\n",
       "      filter: drop-shadow(0px 1px 2px rgba(0, 0, 0, 0.3));\n",
       "      fill: #FFFFFF;\n",
       "    }\n",
       "  </style>\n",
       "\n",
       "    <script>\n",
       "      const buttonEl =\n",
       "        document.querySelector('#df-70e923ec-2f78-4510-9932-c7de1a157a50 button.colab-df-convert');\n",
       "      buttonEl.style.display =\n",
       "        google.colab.kernel.accessAllowed ? 'block' : 'none';\n",
       "\n",
       "      async function convertToInteractive(key) {\n",
       "        const element = document.querySelector('#df-70e923ec-2f78-4510-9932-c7de1a157a50');\n",
       "        const dataTable =\n",
       "          await google.colab.kernel.invokeFunction('convertToInteractive',\n",
       "                                                    [key], {});\n",
       "        if (!dataTable) return;\n",
       "\n",
       "        const docLinkHtml = 'Like what you see? Visit the ' +\n",
       "          '<a target=\"_blank\" href=https://colab.research.google.com/notebooks/data_table.ipynb>data table notebook</a>'\n",
       "          + ' to learn more about interactive tables.';\n",
       "        element.innerHTML = '';\n",
       "        dataTable['output_type'] = 'display_data';\n",
       "        await google.colab.output.renderOutput(dataTable, element);\n",
       "        const docLink = document.createElement('div');\n",
       "        docLink.innerHTML = docLinkHtml;\n",
       "        element.appendChild(docLink);\n",
       "      }\n",
       "    </script>\n",
       "  </div>\n",
       "\n",
       "\n",
       "<div id=\"df-b239bdc6-3756-4d8f-946d-fcf205c3c16c\">\n",
       "  <button class=\"colab-df-quickchart\" onclick=\"quickchart('df-b239bdc6-3756-4d8f-946d-fcf205c3c16c')\"\n",
       "            title=\"Suggest charts\"\n",
       "            style=\"display:none;\">\n",
       "\n",
       "<svg xmlns=\"http://www.w3.org/2000/svg\" height=\"24px\"viewBox=\"0 0 24 24\"\n",
       "     width=\"24px\">\n",
       "    <g>\n",
       "        <path d=\"M19 3H5c-1.1 0-2 .9-2 2v14c0 1.1.9 2 2 2h14c1.1 0 2-.9 2-2V5c0-1.1-.9-2-2-2zM9 17H7v-7h2v7zm4 0h-2V7h2v10zm4 0h-2v-4h2v4z\"/>\n",
       "    </g>\n",
       "</svg>\n",
       "  </button>\n",
       "\n",
       "<style>\n",
       "  .colab-df-quickchart {\n",
       "      --bg-color: #E8F0FE;\n",
       "      --fill-color: #1967D2;\n",
       "      --hover-bg-color: #E2EBFA;\n",
       "      --hover-fill-color: #174EA6;\n",
       "      --disabled-fill-color: #AAA;\n",
       "      --disabled-bg-color: #DDD;\n",
       "  }\n",
       "\n",
       "  [theme=dark] .colab-df-quickchart {\n",
       "      --bg-color: #3B4455;\n",
       "      --fill-color: #D2E3FC;\n",
       "      --hover-bg-color: #434B5C;\n",
       "      --hover-fill-color: #FFFFFF;\n",
       "      --disabled-bg-color: #3B4455;\n",
       "      --disabled-fill-color: #666;\n",
       "  }\n",
       "\n",
       "  .colab-df-quickchart {\n",
       "    background-color: var(--bg-color);\n",
       "    border: none;\n",
       "    border-radius: 50%;\n",
       "    cursor: pointer;\n",
       "    display: none;\n",
       "    fill: var(--fill-color);\n",
       "    height: 32px;\n",
       "    padding: 0;\n",
       "    width: 32px;\n",
       "  }\n",
       "\n",
       "  .colab-df-quickchart:hover {\n",
       "    background-color: var(--hover-bg-color);\n",
       "    box-shadow: 0 1px 2px rgba(60, 64, 67, 0.3), 0 1px 3px 1px rgba(60, 64, 67, 0.15);\n",
       "    fill: var(--button-hover-fill-color);\n",
       "  }\n",
       "\n",
       "  .colab-df-quickchart-complete:disabled,\n",
       "  .colab-df-quickchart-complete:disabled:hover {\n",
       "    background-color: var(--disabled-bg-color);\n",
       "    fill: var(--disabled-fill-color);\n",
       "    box-shadow: none;\n",
       "  }\n",
       "\n",
       "  .colab-df-spinner {\n",
       "    border: 2px solid var(--fill-color);\n",
       "    border-color: transparent;\n",
       "    border-bottom-color: var(--fill-color);\n",
       "    animation:\n",
       "      spin 1s steps(1) infinite;\n",
       "  }\n",
       "\n",
       "  @keyframes spin {\n",
       "    0% {\n",
       "      border-color: transparent;\n",
       "      border-bottom-color: var(--fill-color);\n",
       "      border-left-color: var(--fill-color);\n",
       "    }\n",
       "    20% {\n",
       "      border-color: transparent;\n",
       "      border-left-color: var(--fill-color);\n",
       "      border-top-color: var(--fill-color);\n",
       "    }\n",
       "    30% {\n",
       "      border-color: transparent;\n",
       "      border-left-color: var(--fill-color);\n",
       "      border-top-color: var(--fill-color);\n",
       "      border-right-color: var(--fill-color);\n",
       "    }\n",
       "    40% {\n",
       "      border-color: transparent;\n",
       "      border-right-color: var(--fill-color);\n",
       "      border-top-color: var(--fill-color);\n",
       "    }\n",
       "    60% {\n",
       "      border-color: transparent;\n",
       "      border-right-color: var(--fill-color);\n",
       "    }\n",
       "    80% {\n",
       "      border-color: transparent;\n",
       "      border-right-color: var(--fill-color);\n",
       "      border-bottom-color: var(--fill-color);\n",
       "    }\n",
       "    90% {\n",
       "      border-color: transparent;\n",
       "      border-bottom-color: var(--fill-color);\n",
       "    }\n",
       "  }\n",
       "</style>\n",
       "\n",
       "  <script>\n",
       "    async function quickchart(key) {\n",
       "      const quickchartButtonEl =\n",
       "        document.querySelector('#' + key + ' button');\n",
       "      quickchartButtonEl.disabled = true;  // To prevent multiple clicks.\n",
       "      quickchartButtonEl.classList.add('colab-df-spinner');\n",
       "      try {\n",
       "        const charts = await google.colab.kernel.invokeFunction(\n",
       "            'suggestCharts', [key], {});\n",
       "      } catch (error) {\n",
       "        console.error('Error during call to suggestCharts:', error);\n",
       "      }\n",
       "      quickchartButtonEl.classList.remove('colab-df-spinner');\n",
       "      quickchartButtonEl.classList.add('colab-df-quickchart-complete');\n",
       "    }\n",
       "    (() => {\n",
       "      let quickchartButtonEl =\n",
       "        document.querySelector('#df-b239bdc6-3756-4d8f-946d-fcf205c3c16c button');\n",
       "      quickchartButtonEl.style.display =\n",
       "        google.colab.kernel.accessAllowed ? 'block' : 'none';\n",
       "    })();\n",
       "  </script>\n",
       "</div>\n",
       "    </div>\n",
       "  </div>\n"
      ],
      "text/plain": [
       "       label                                      cumlative_seq  \\\n",
       "0          0  [-512, -1024, -512, -1024, -512, -1024, -512, ...   \n",
       "1          0  [-512, -1024, -512, -1024, -512, -1024, -512, ...   \n",
       "2          0  [-512, -1024, -512, -1024, -512, -1024, -512, ...   \n",
       "3          0  [-512, -1024, -512, -1024, -512, -1024, -512, ...   \n",
       "4          0  [-512, -1024, -512, -1024, -512, -1024, -512, ...   \n",
       "...      ...                                                ...   \n",
       "18995     94  [-512, -1024, -512, -1024, -512, -1024, -512, ...   \n",
       "18996     94  [-512, -1024, -512, -1024, -512, -1024, -512, ...   \n",
       "18997     94  [-512, -1024, -512, -1024, -512, -1024, -512, ...   \n",
       "18998     94  [-512, -1024, -512, -1024, -512, -1024, -512, ...   \n",
       "18999     94  [-512, -1024, -512, -1024, -512, -1024, -512, ...   \n",
       "\n",
       "                                               burst_seq  \n",
       "0      [-1024, 512, -512, 512, -512, 1024, -7168, 512...  \n",
       "1      [-1024, 512, -512, 512, -512, 1024, -7168, 512...  \n",
       "2      [-1024, 512, -512, 512, -512, 1024, -7168, 512...  \n",
       "3      [-1024, 512, -512, 512, -512, 1024, -7168, 512...  \n",
       "4      [-1024, 512, -512, 512, -512, 1024, -7168, 512...  \n",
       "...                                                  ...  \n",
       "18995  [-1024, 512, -512, 512, -512, 1024, -7680, 102...  \n",
       "18996  [-1024, 512, -512, 512, -512, 1024, -7680, 102...  \n",
       "18997  [-1024, 512, -512, 512, -512, 1024, -7680, 153...  \n",
       "18998  [-1024, 512, -512, 512, -512, 1024, -7680, 102...  \n",
       "18999  [-1024, 512, -512, 512, -512, 1024, -7680, 102...  \n",
       "\n",
       "[19000 rows x 3 columns]"
      ]
     },
     "execution_count": 3,
     "metadata": {},
     "output_type": "execute_result"
    }
   ],
   "source": [
    "df2"
   ]
  },
  {
   "cell_type": "markdown",
   "metadata": {
    "id": "Lt5ZuOKcDCII"
   },
   "source": [
    "## Export Pickle"
   ]
  },
  {
   "cell_type": "code",
   "execution_count": 4,
   "metadata": {
    "colab": {
     "base_uri": "https://localhost:8080/"
    },
    "executionInfo": {
     "elapsed": 15,
     "status": "ok",
     "timestamp": 1701397816453,
     "user": {
      "displayName": "­윤효정(엘텍공과대학 소프트웨어학부)",
      "userId": "02854537987850753344"
     },
     "user_tz": -540
    },
    "id": "kAfzTflxC-u7",
    "outputId": "c35e50ae-ffcb-443d-ff2f-ce0d33e4a607"
   },
   "outputs": [
    {
     "name": "stdout",
     "output_type": "stream",
     "text": [
      "/content/drive/MyDrive/GitHub/global\n"
     ]
    }
   ],
   "source": [
    "cd /content/drive/MyDrive/GitHub/global"
   ]
  },
  {
   "cell_type": "code",
   "execution_count": 5,
   "metadata": {
    "executionInfo": {
     "elapsed": 9745,
     "status": "ok",
     "timestamp": 1701397826189,
     "user": {
      "displayName": "­윤효정(엘텍공과대학 소프트웨어학부)",
      "userId": "02854537987850753344"
     },
     "user_tz": -540
    },
    "id": "c9ogPx3oogM7"
   },
   "outputs": [],
   "source": [
    "picklefile = open('mon_df2_contiuous.pkl','wb')\n",
    "pickle.dump(df2,picklefile)\n",
    "picklefile.close()"
   ]
  },
  {
   "cell_type": "markdown",
   "metadata": {
    "id": "_TY2Vzx2CyLe"
   },
   "source": [
    "# mon_df3_categorical : packet nums, income, outcome\n",
    "columns :\n",
    "- number of packet\n",
    "- total incoming\n",
    "- total outgoing\n",
    "\n",
    "incoming : server to client\n",
    "\n",
    "outcoming : client to server"
   ]
  },
  {
   "cell_type": "code",
   "execution_count": 6,
   "metadata": {
    "colab": {
     "base_uri": "https://localhost:8080/"
    },
    "executionInfo": {
     "elapsed": 22455,
     "status": "ok",
     "timestamp": 1701398014912,
     "user": {
      "displayName": "­윤효정(엘텍공과대학 소프트웨어학부)",
      "userId": "02854537987850753344"
     },
     "user_tz": -540
    },
    "id": "79O6_MVwK_HX",
    "outputId": "41f1954b-dd49-49e9-8990-9c6ec48f35f2"
   },
   "outputs": [
    {
     "name": "stdout",
     "output_type": "stream",
     "text": [
      "Load mon_df1_contiuous\n"
     ]
    }
   ],
   "source": [
    "import pickle\n",
    "\n",
    "with open(\"/content/drive/MyDrive/GitHub/global/mon_df1_contiuous.pkl\", 'rb') as fi:\n",
    "    df1 = pickle.load(fi)\n",
    "print(\"Load mon_df1_contiuous\")"
   ]
  },
  {
   "cell_type": "code",
   "execution_count": 7,
   "metadata": {
    "colab": {
     "base_uri": "https://localhost:8080/"
    },
    "executionInfo": {
     "elapsed": 15064,
     "status": "ok",
     "timestamp": 1701398041337,
     "user": {
      "displayName": "­윤효정(엘텍공과대학 소프트웨어학부)",
      "userId": "02854537987850753344"
     },
     "user_tz": -540
    },
    "id": "-jYRSxXzK_qR",
    "outputId": "451d7ddd-f1b2-4917-ee60-ee23b596d344"
   },
   "outputs": [
    {
     "name": "stdout",
     "output_type": "stream",
     "text": [
      "total : 19000\n"
     ]
    }
   ],
   "source": [
    "# number of packet, total incoming, total outgoing\n",
    "import pandas as pd\n",
    "\n",
    "packet_num = []\n",
    "total_income = []\n",
    "total_outcome = []\n",
    "\n",
    "for i in range(len(df1['size_seq'])):\n",
    "  num = len(df1['size_seq'][i])\n",
    "  income = sum(x > 0 for x in list(df1['size_seq'][i]))\n",
    "  outcome = sum(x < 0 for x in list(df1['size_seq'][i]))\n",
    "  packet_num.append(num)\n",
    "  total_income.append(income)\n",
    "  total_outcome.append(outcome)\n",
    "\n",
    "df3 = pd.DataFrame(zip(packet_num,total_income,total_outcome), columns =['packet_num','total_income','total_outcome'])\n",
    "print(f'total : {len(packet_num)}')"
   ]
  },
  {
   "cell_type": "markdown",
   "metadata": {
    "id": "WMaRBh7hDp0N"
   },
   "source": [
    "## Export Pickle"
   ]
  },
  {
   "cell_type": "code",
   "execution_count": 8,
   "metadata": {
    "colab": {
     "base_uri": "https://localhost:8080/"
    },
    "executionInfo": {
     "elapsed": 747,
     "status": "ok",
     "timestamp": 1701398046551,
     "user": {
      "displayName": "­윤효정(엘텍공과대학 소프트웨어학부)",
      "userId": "02854537987850753344"
     },
     "user_tz": -540
    },
    "id": "XCnDStNFDWom",
    "outputId": "cf5e3e95-2cb7-4370-9708-c5777f2c7431"
   },
   "outputs": [
    {
     "name": "stdout",
     "output_type": "stream",
     "text": [
      "/content/drive/MyDrive/GitHub/global\n"
     ]
    }
   ],
   "source": [
    "cd /content/drive/MyDrive/GitHub/global"
   ]
  },
  {
   "cell_type": "code",
   "execution_count": 9,
   "metadata": {
    "executionInfo": {
     "elapsed": 475,
     "status": "ok",
     "timestamp": 1701398047024,
     "user": {
      "displayName": "­윤효정(엘텍공과대학 소프트웨어학부)",
      "userId": "02854537987850753344"
     },
     "user_tz": -540
    },
    "id": "FZcG_98LDWec"
   },
   "outputs": [],
   "source": [
    "picklefile = open('mon_df3_categorical.pkl','wb')\n",
    "pickle.dump(df3,picklefile)\n",
    "picklefile.close()"
   ]
  },
  {
   "cell_type": "markdown",
   "metadata": {
    "id": "vM_R3mnvDhjD"
   },
   "source": [
    "# mon_df4_custom.pkl\n",
    "\n",
    "`df4 = pd.DataFrame({'column name1': df1['df1_col'], 'column name2': df2['Name'], ... })`"
   ]
  },
  {
   "cell_type": "code",
   "execution_count": null,
   "metadata": {
    "id": "1OK8OPuAJvXb"
   },
   "outputs": [],
   "source": [
    "import pickle\n",
    "\n",
    "with open(\"/content/drive/MyDrive/GitHub/global/mon_df1_contiuous.pkl.pkl\", 'rb') as fi: # Path to mon_standard.pkl in Colab\n",
    "    df1 = pickle.load(fi)\n",
    "print(\"Loading mon_df1_contiuous...\")\n",
    "\n",
    "\n",
    "with open(\"/content/drive/MyDrive/GitHub/global/mon_df2_contiuous.pkl\", 'rb') as fi: # Path to mon_standard.pkl in Colab\n",
    "    df2 = pickle.load(fi)\n",
    "print(\"Loading mon_df2_contiuous...\")\n",
    "\n",
    "with open(\"/content/drive/MyDrive/GitHub/global/mon_df3_categorical.pkl\", 'rb') as fi: # Path to mon_standard.pkl in Colab\n",
    "    df3 = pickle.load(fi)\n",
    "print(\"Loading mon_df3_categorical...\")\n"
   ]
  },
  {
   "cell_type": "code",
   "execution_count": null,
   "metadata": {
    "id": "84wBxJesJvJW"
   },
   "outputs": [],
   "source": [
    "df1.head()"
   ]
  },
  {
   "cell_type": "code",
   "execution_count": null,
   "metadata": {
    "id": "zriGY9JVJ0YA"
   },
   "outputs": [],
   "source": [
    "df2.head()"
   ]
  },
  {
   "cell_type": "code",
   "execution_count": null,
   "metadata": {
    "id": "rJ4tKcPkJ0qf"
   },
   "outputs": [],
   "source": [
    "df3.head()"
   ]
  },
  {
   "cell_type": "code",
   "execution_count": null,
   "metadata": {
    "id": "jubNLIriJaM_"
   },
   "outputs": [],
   "source": [
    "import pandas as pd\n",
    "df4 = pd.DataFrame({'label': df1['label'], 'packet_num': df3['packet_num']})\n",
    "df4.head()"
   ]
  },
  {
   "cell_type": "markdown",
   "metadata": {
    "id": "4EiImtPvDnxN"
   },
   "source": [
    "## Export Pickle"
   ]
  },
  {
   "cell_type": "code",
   "execution_count": null,
   "metadata": {
    "id": "FM-foI1lJj28"
   },
   "outputs": [],
   "source": [
    "cd /content/drive/MyDrive/GitHub/global"
   ]
  },
  {
   "cell_type": "code",
   "execution_count": null,
   "metadata": {
    "id": "nGYnamHRJkI9"
   },
   "outputs": [],
   "source": [
    "picklefile = open('mon_df4_custom.pkl','wb')\n",
    "pickle.dump(df4,picklefile)\n",
    "picklefile.close()"
   ]
  }
 ],
 "metadata": {
  "colab": {
   "provenance": []
  },
  "gpuClass": "standard",
  "kernelspec": {
   "display_name": "Python 3 (ipykernel)",
   "language": "python",
   "name": "python3"
  },
  "language_info": {
   "codemirror_mode": {
    "name": "ipython",
    "version": 3
   },
   "file_extension": ".py",
   "mimetype": "text/x-python",
   "name": "python",
   "nbconvert_exporter": "python",
   "pygments_lexer": "ipython3",
   "version": "3.9.7"
  }
 },
 "nbformat": 4,
 "nbformat_minor": 1
}
